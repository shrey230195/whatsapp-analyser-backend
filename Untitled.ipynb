{
 "cells": [
  {
   "cell_type": "code",
   "execution_count": 4,
   "metadata": {
    "collapsed": false
   },
   "outputs": [],
   "source": [
    "%matplotlib inline\n",
    "import matplotlib\n",
    "import pandas as pd\n",
    "import numpy as np\n",
    "import re\n",
    "import matplotlib.pyplot as plt\n",
    "import nltk\n",
    "# from nltk.book import *\n",
    "from nltk.tokenize import RegexpTokenizer\n"
   ]
  },
  {
   "cell_type": "code",
   "execution_count": 5,
   "metadata": {
    "collapsed": false
   },
   "outputs": [],
   "source": [
    "date=np.empty((0))\n",
    "time=np.empty((0))\n",
    "name=np.empty((0))\n",
    "messages=np.dtype(str)\n",
    "messages=np.empty((0))\n",
    "\n",
    "sender_messages=np.eye(2)\n",
    "# participants=np.empty((0))\n",
    "new_file=[]\n",
    "\n"
   ]
  },
  {
   "cell_type": "code",
   "execution_count": 6,
   "metadata": {
    "collapsed": false
   },
   "outputs": [],
   "source": [
    "count=0\n",
    "letter=0\n",
    "digit=0\n",
    "i=0\n",
    "with open('Habibi.txt') as f:\n",
    "    lines = f.readlines()\n",
    "for line in lines:\n",
    "\tif(count==0):\n",
    "\t\tcount+=1\n",
    "\t\tcontinue\n",
    "\tif(line[0].isdigit()):\n",
    "\t\tcount+=1\n",
    "\t\tline=line.strip('\\n')\n",
    "\t\tline=unicode(line,'utf-8')\n",
    "\t\tline=line.encode('unicode-escape')\n",
    "\t\tnew_line=line\n",
    "\t\tnew_line=new_line.replace(', ','-|-',1)\n",
    "\t\tnew_line=new_line.replace(' - ','-|-',1)\n",
    "\t\tnew_line=new_line.replace(': ','-|-',1)\n",
    "\t\tnew_line=new_line.split('-|-')\n",
    "\t\tdate=np.append(date,new_line[0])\n",
    "\t\ttime=np.append(time,new_line[1])\n",
    "\t\tname=np.append(name,new_line[2])\n",
    "\t\tmessages=np.append(messages,new_line[3])\n",
    "\telse:\n",
    "\t\tletter+=1\n",
    "\t\tcount+=1\n",
    "\t\tline=unicode(line,'utf-8')\n",
    "\t\tline=line.encode('unicode-escape')\n",
    "\t\tmessages[messages.shape[0]-1]=messages[messages.shape[0]-1]+line \n",
    "f.close()\n",
    "\n"
   ]
  },
  {
   "cell_type": "code",
   "execution_count": 7,
   "metadata": {
    "collapsed": false
   },
   "outputs": [],
   "source": [
    "data = {\n",
    "\t\t'date' : pd.Series(date),\n",
    "     \t'time' : pd.Series(time),\n",
    "     \t'sender': pd.Series(name),\n",
    "     \t'messages':pd.Series(messages)\n",
    "     \t}\n",
    "df = pd.DataFrame(data)\n"
   ]
  },
  {
   "cell_type": "code",
   "execution_count": 6,
   "metadata": {
    "collapsed": false
   },
   "outputs": [
    {
     "name": "stdout",
     "output_type": "stream",
     "text": [
      "\\U0001f612\n"
     ]
    },
    {
     "data": {
      "text/plain": [
       "u'\\\\U0001f612'"
      ]
     },
     "execution_count": 6,
     "metadata": {},
     "output_type": "execute_result"
    }
   ],
   "source": [
    "print df.messages[0]\n",
    "unicode('\\U0001f612')"
   ]
  },
  {
   "cell_type": "raw",
   "metadata": {
    "collapsed": false
   },
   "source": [
    "df = pd.DataFrame(data)\n",
    "print df.messages[6]\n"
   ]
  },
  {
   "cell_type": "code",
   "execution_count": 10,
   "metadata": {
    "collapsed": false
   },
   "outputs": [],
   "source": [
    "participants = df.sender.unique()\n"
   ]
  },
  {
   "cell_type": "code",
   "execution_count": 8,
   "metadata": {
    "collapsed": false
   },
   "outputs": [],
   "source": [
    "def group_by_sender(dataFrame,sender):    \n",
    "    gb=dataFrame.groupby('sender')\n",
    "    return gb.get_group(sender)\n",
    "        \n",
    "\n",
    "\n",
    "#[gb.get_group(x) for x in gb.groups]\n"
   ]
  },
  {
   "cell_type": "code",
   "execution_count": 9,
   "metadata": {
    "collapsed": false
   },
   "outputs": [],
   "source": [
    "def no_of_messages(array):\n",
    "    return array.shape[0]\n"
   ]
  },
  {
   "cell_type": "code",
   "execution_count": 17,
   "metadata": {
    "collapsed": false,
    "scrolled": true
   },
   "outputs": [],
   "source": [
    "def frequency(entity):\n",
    "    freq=entity.value_counts(sort=True).sort_values(ascending=False)\n",
    "    freq=freq.to_dict()\n",
    "    result={\n",
    "            'entity':pd.Series(freq.keys()),\n",
    "            'freq':pd.Series(freq.values())\n",
    "    }\n",
    "    result= pd.DataFrame(result)\n",
    "    result= result.sort_values('freq', ascending=0)\n",
    "    return result.reset_index()\n",
    "    "
   ]
  },
  {
   "cell_type": "code",
   "execution_count": 18,
   "metadata": {
    "collapsed": false
   },
   "outputs": [],
   "source": [
    "def group_by_date(dataFrame,date):\n",
    "    gb=dataFrame.groupby('date',as_index=False)\n",
    "    return gb.get_group(date)\n"
   ]
  },
  {
   "cell_type": "code",
   "execution_count": 19,
   "metadata": {
    "collapsed": false
   },
   "outputs": [],
   "source": [
    "def group_by_time(dataFrame,time):\n",
    "    gb=dataFrame.groupby('time',as_index=False)\n",
    "    return gb.get_group(time)\n",
    "\n"
   ]
  },
  {
   "cell_type": "code",
   "execution_count": 13,
   "metadata": {
    "collapsed": false
   },
   "outputs": [],
   "source": [
    "\n",
    "date_frequency=frequency(df[\"date\"])\n",
    "most_frequent_date= date_frequency.entity[0]\n",
    "most_happening_day=group_by_date(df,most_frequent_date)\n",
    "#print most_happening_day"
   ]
  },
  {
   "cell_type": "code",
   "execution_count": 15,
   "metadata": {
    "collapsed": false
   },
   "outputs": [],
   "source": [
    "def message_tokens(messages):\n",
    "    tokenizer = RegexpTokenizer(r'\\w+')\n",
    "    bag_of_words=[]\n",
    "    for msg in messages:\n",
    "        tokens=tokenizer.tokenize(msg)\n",
    "        for word in tokens:\n",
    "            bag_of_words.append(word)\n",
    "    bag_of_words=pd.Series(bag_of_words)\n",
    "    return bag_of_words\n",
    "\n",
    "    "
   ]
  },
  {
   "cell_type": "code",
   "execution_count": 14,
   "metadata": {
    "collapsed": false
   },
   "outputs": [],
   "source": [
    "tokenizer = RegexpTokenizer(r'\\w+')\n",
    "df['msg_length']=pd.Series(0, df.index)\n",
    "df['no_of_words']=pd.Series(0, df.index)\n",
    "for index,msg in enumerate(df.messages):\n",
    "    tokens=tokenizer.tokenize(msg)\n",
    "    df.set_value(index,'msg_length',len(msg))\n",
    "    df.set_value(index,'no_of_words',len(tokens))\n",
    "  "
   ]
  },
  {
   "cell_type": "code",
   "execution_count": 16,
   "metadata": {
    "collapsed": false
   },
   "outputs": [
    {
     "data": {
      "image/png": "[encoded data removed]",
      "text/plain": [
       "<matplotlib.figure.Figure at 0x7fd8b236dd10>"
      ]
     },
     "metadata": {},
     "output_type": "display_data"
    },
    {
     "name": "stdout",
     "output_type": "stream",
     "text": [
      "[(10, 748), (15, 450), (20, 386), (30, 303), (14, 296), (40, 295), (12, 286), (16, 282), (13, 264), (17, 256), (11, 255), (18, 255), (19, 255), (21, 253), (50, 253), (5, 249), (7, 241), (4, 240), (24, 232), (6, 230), (8, 230), (9, 227), (22, 222), (23, 221), (25, 220), (27, 209), (26, 194), (3, 191), (28, 158), (34, 154), (31, 153), (29, 152), (60, 140), (32, 139), (33, 131), (39, 111), (35, 109), (36, 105), (41, 100), (37, 99), (38, 91), (45, 80), (43, 78), (70, 71), (44, 70), (46, 70), (48, 70), (2, 68), (42, 68), (47, 67), (49, 55), (55, 55), (54, 51), (53, 50), (51, 45), (59, 45), (52, 42), (62, 41), (66, 41), (58, 40), (56, 37), (80, 37), (61, 36), (65, 35), (57, 34), (67, 34), (64, 31), (75, 31), (73, 29), (63, 26), (90, 26), (69, 25), (76, 25), (1, 24), (68, 23), (83, 21), (72, 20), (71, 19), (77, 19), (85, 19), (82, 18), (91, 17), (100, 17), (94, 16), (87, 15), (79, 13), (88, 13), (74, 12), (108, 12), (93, 11), (78, 10), (89, 10), (101, 10), (106, 10), (81, 9), (98, 9), (104, 9), (84, 8), (86, 8), (92, 8), (95, 8), (630, 8), (99, 7), (110, 7), (111, 7), (114, 7), (118, 7), (105, 6), (115, 6), (96, 5), (97, 5), (103, 5), (112, 5), (121, 5), (122, 5), (127, 5), (130, 5), (102, 4), (109, 4), (120, 4), (125, 4), (134, 4), (141, 4), (116, 3), (123, 3), (128, 3), (138, 3), (139, 3), (140, 3), (157, 3), (164, 3), (165, 3), (170, 3), (180, 3), (183, 3), (107, 2), (124, 2), (126, 2), (129, 2), (131, 2), (133, 2), (136, 2), (137, 2), (144, 2), (146, 2), (148, 2), (149, 2), (150, 2), (152, 2), (153, 2), (156, 2), (158, 2), (162, 2), (169, 2), (185, 2), (189, 2), (192, 2), (211, 2), (113, 1), (117, 1), (119, 1), (132, 1), (135, 1), (143, 1), (155, 1), (159, 1), (160, 1), (163, 1), (167, 1), (175, 1), (178, 1), (182, 1), (184, 1), (543, 1), (190, 1), (195, 1), (197, 1), (198, 1), (200, 1), (206, 1), (207, 1), (215, 1), (217, 1), (218, 1), (222, 1), (223, 1), (226, 1), (230, 1), (231, 1), (233, 1), (236, 1), (240, 1), (723, 1), (250, 1), (252, 1), (260, 1), (261, 1), (269, 1), (275, 1), (280, 1), (281, 1), (310, 1), (330, 1), (338, 1), (350, 1), (361, 1), (370, 1), (405, 1), (419, 1), (430, 1), (469, 1), (483, 1), (506, 1), (1022, 1)]\n"
     ]
    }
   ],
   "source": [
    "\n",
    "gb=df.groupby('msg_length')\n",
    "n_msg={}\n",
    "for x in sorted(df['msg_length'].value_counts().keys()):\n",
    "    \n",
    "    n_msg[x]=df['msg_length'].value_counts().to_dict()[x]\n",
    "\n",
    "plt.bar(range(len(n_msg)), n_msg.values(), align='center')\n",
    "plt.xticks(range(len(n_msg)), n_msg.keys())\n",
    "\n",
    "plt.show()\n",
    "print sorted(n_msg.items(), key=lambda kv: kv[1], reverse=True)\n",
    "# for x in df['msg_length'].value_counts().keys():\n",
    "#     print gb.get_group(x)\n",
    "# print len(np.where(dick['messages']=='<Media omitted>')[0])\n"
   ]
  },
  {
   "cell_type": "code",
   "execution_count": null,
   "metadata": {
    "collapsed": false
   },
   "outputs": [],
   "source": []
  },
  {
   "cell_type": "code",
   "execution_count": null,
   "metadata": {
    "collapsed": false
   },
   "outputs": [],
   "source": []
  },
  {
   "cell_type": "code",
   "execution_count": 20,
   "metadata": {
    "collapsed": false
   },
   "outputs": [],
   "source": [
    "#most frequently used words\n",
    "\n",
    "tokens=message_tokens(df.messages)\n",
    "\n",
    "#frequency of most frequently used words\n",
    "token_frequency=frequency(tokens)\n",
    "\n"
   ]
  },
  {
   "cell_type": "code",
   "execution_count": 18,
   "metadata": {
    "collapsed": false
   },
   "outputs": [],
   "source": [
    "def get_sender_token_freq(df,sender): \n",
    "    group_by_sender_data = group_by_sender(df,sender)\n",
    "    sender_tokens=message_tokens(group_by_sender_data.messages)\n",
    "    return frequency(sender_tokens)\n"
   ]
  },
  {
   "cell_type": "code",
   "execution_count": null,
   "metadata": {
    "collapsed": false
   },
   "outputs": [],
   "source": []
  },
  {
   "cell_type": "code",
   "execution_count": 30,
   "metadata": {
    "collapsed": false
   },
   "outputs": [
    {
     "name": "stdout",
     "output_type": "stream",
     "text": [
      "\\U0001f44f\n"
     ]
    }
   ],
   "source": [
    "# print token_frequency['entity'][:20]\n",
    "def get_emoji(source):\n",
    "    emoji={}\n",
    "    for lit in source['entity']:\n",
    "        lit=unicode(lit,'utf-8')\n",
    "        lit=lit.encode('unicode-escape')\n",
    "        s=lit.decode('unicode-escape')\n",
    "        emoticons = re.findall(ur'[U0001f600-U0001f650]',s)\n",
    "        if(len(emoticons)==9 and emoticons[0]=='U' and len(lit)==9):\n",
    "            smilie='\\\\'+lit\n",
    "            smilie=unicode(smilie,'utf-8')\n",
    "            smilie=smilie.decode('unicode-escape')\n",
    "            emoji[smilie]=source.loc[source['entity']==lit].freq.to_dict().values()[0]\n",
    "    emoji = sorted(emoji.items(), key=lambda kv: kv[1], reverse=True)\n",
    "    emoji= pd.DataFrame(emoji) \n",
    "    emoji.columns=['emoji','freq']\n",
    "    return emoji\n",
    "print get_emoji(token_frequency).emoji[10].encode('unicode-escape')"
   ]
  },
  {
   "cell_type": "code",
   "execution_count": 27,
   "metadata": {
    "collapsed": false
   },
   "outputs": [],
   "source": [
    "def get_emoticons_data():\n",
    "    total_emoji=get_emoji(token_frequency)\n",
    "    s_length=len(total_emoji['emoji'])\n",
    "    sender_emoji={}\n",
    "    for x in participants:\n",
    "        sender=get_sender_token_freq(df,x)\n",
    "        sender_emoji[x]=get_emoji(sender)\n",
    "        total_emoji[x]=pd.Series(0, index=total_emoji.index)\n",
    "    for emoji in total_emoji['emoji']:\n",
    "        for x in sender_emoji:\n",
    "            for s_emo in sender_emoji[x]['emoji']:\n",
    "                if(emoji==s_emo):\n",
    "                    main_index= int(np.where(total_emoji['emoji']==emoji)[0])\n",
    "                    sender_index=int(np.where(sender_emoji[x]['emoji']==emoji)[0])\n",
    "                    total_emoji.set_value(main_index, x, sender_emoji[x]['freq'][sender_index])\n",
    "                    break\n",
    "            continue   \n",
    "    return total_emoji"
   ]
  },
  {
   "cell_type": "code",
   "execution_count": null,
   "metadata": {
    "collapsed": false
   },
   "outputs": [],
   "source": []
  },
  {
   "cell_type": "code",
   "execution_count": 21,
   "metadata": {
    "collapsed": false
   },
   "outputs": [
    {
     "name": "stdout",
     "output_type": "stream",
     "text": [
      "total messages : 11543\n",
      "{'total_msg': 11543, 'sender': {'total_msg': {'Habibi': 5519, 'shrey': 6024}, 'contribution': {'Habibi': 47.812527072684745, 'shrey': 52.18747292731526}}}\n"
     ]
    }
   ],
   "source": [
    "#NO_OF_MESSAGES\n",
    "print \"total messages :\",no_of_messages(df[\"sender\"])\n",
    "sender_total_msg={}\n",
    "sender_contribution={}\n",
    "for x in participants:\n",
    "    sender_total_msg[x]=no_of_messages(group_by_sender(df,x))\n",
    "    sender_contribution[x]=float(no_of_messages(group_by_sender(df,x)))/float(no_of_messages(df[\"sender\"]))*100\n",
    "total_no_of_msg={\n",
    "    'total_msg':no_of_messages(df[\"sender\"]),\n",
    "    'sender':{\n",
    "        'total_msg':sender_total_msg,\n",
    "        'contribution':sender_contribution\n",
    "    }\n",
    "}\n",
    "print total_no_of_msg"
   ]
  },
  {
   "cell_type": "code",
   "execution_count": 22,
   "metadata": {
    "collapsed": false
   },
   "outputs": [
    {
     "name": "stdout",
     "output_type": "stream",
     "text": [
      "{'total_msg_len': 351466, 'total_words': 63010, 'sender': {'msg_percent': {'Habibi': 0.31270450057758076, 'shrey': 0.6872954994224192}, 'total_words': {'Habibi': 22173, 'shrey': 40837}, 'msg_len': {'Habibi': 109905, 'shrey': 241561}, 'word_percent': {'Habibi': 0.3518965243612125, 'shrey': 0.6481034756387875}}}\n"
     ]
    }
   ],
   "source": [
    "#TOTAL_MSG_LENGTH\n",
    "total_msg_len=df['msg_length'].sum()\n",
    "# print 'total message length : ',total_msg_len\n",
    "total_words=df['no_of_words'].sum()\n",
    "# print 'total words used : ',total_words\n",
    "sender_msg_len={}\n",
    "percent_msg={}\n",
    "sender_words={}\n",
    "percent_words={}\n",
    "for x in participants:\n",
    "    sender=group_by_sender(df,x)\n",
    "    sender_msg_len[x]=sender['msg_length'].sum()\n",
    "    percent_msg[x]=float(sender_msg_len[x])/float(total_msg_len)\n",
    "    sender_words[x]=sender['no_of_words'].sum()\n",
    "    percent_words[x]=float(sender_words[x])/float(total_words)\n",
    "#     print x ,': \\n total msg length :',sender_msg_len,'\\t percentage :',percent_msg,'\\n'\n",
    "#     print x ,': \\n total words :',sender_words,'\\t percentage :',percent_words,'\\n'\n",
    "total_msg_stat={\n",
    "    'total_msg_len':total_msg_len,\n",
    "    'total_words':total_words,\n",
    "    'sender':{\n",
    "        'msg_len':sender_msg_len,\n",
    "        'msg_percent':percent_msg,\n",
    "        'total_words':sender_words,\n",
    "        'word_percent':percent_words\n",
    "        \n",
    "    }\n",
    "}\n",
    "print total_msg_stat"
   ]
  },
  {
   "cell_type": "code",
   "execution_count": 23,
   "metadata": {
    "collapsed": false
   },
   "outputs": [
    {
     "name": "stdout",
     "output_type": "stream",
     "text": [
      "avg words per message :  5.4587195703 \n",
      " avg message length :  30.448410292\n"
     ]
    }
   ],
   "source": [
    "#avg_msg_len\n",
    "avg_msg_len=df['msg_length'].mean()\n",
    "avg_words_per_msg=df['no_of_words'].mean()\n",
    "print 'avg words per message : ',avg_words_per_msg,'\\n avg message length : ',avg_msg_len\n"
   ]
  },
  {
   "cell_type": "code",
   "execution_count": 24,
   "metadata": {
    "collapsed": false
   },
   "outputs": [
    {
     "name": "stdout",
     "output_type": "stream",
     "text": [
      "{'avg_msg_len': 30.448410291951831, 'avg_words_per_msg': 5.4587195703023479, 'sender': {'avg_msg_len': {'Habibi': 19.913933683638341, 'shrey': 40.099767596281538}, 'avg_words_per_msg': {'Habibi': 4.0175756477622757, 'shrey': 6.7790504648074368}}}\n"
     ]
    }
   ],
   "source": [
    "#AVG_MSG_LEN & AVG NO_OF_WORDS PER SENDER\n",
    "sender_avg_msg_len={}\n",
    "avg_words_per_sender={}\n",
    "s=0\n",
    "for x in participants:\n",
    "    sender=group_by_sender(df,x)\n",
    "    sender_avg_msg_len[x]=sender['msg_length'].mean()\n",
    "    avg_words_per_sender[x]=sender['no_of_words'].mean()\n",
    "\n",
    "# print 'avg words per msg: ',avg_words_per_sender,'\\n avg message length : ',sender_avg_msg_len\n",
    "\n",
    "avg_msg_stat={\n",
    "    'avg_words_per_msg' : avg_words_per_msg,\n",
    "    'avg_msg_len' : avg_msg_len,\n",
    "    'sender':{\n",
    "        'avg_words_per_msg' : avg_words_per_sender,\n",
    "        'avg_msg_len' : sender_avg_msg_len\n",
    "    }\n",
    "}\n",
    "print avg_msg_stat"
   ]
  },
  {
   "cell_type": "code",
   "execution_count": 25,
   "metadata": {
    "collapsed": false
   },
   "outputs": [
    {
     "name": "stdout",
     "output_type": "stream",
     "text": [
      "avg messages length per day 4749.54054054\n",
      "avg words per day 851.486486486\n",
      "avg messages per day : 155.986486486\n",
      "{'avg_msg_len_per_day': 4749.540540540541, 'avg_words_per_day': 851.4864864864865, 'avg_msg_per_day': 155.98648648648648, 'sender': {'Habibi': {'avg_msg_len_per_day': 1485.2027027027027, 'avg_words_per_day': 299.63513513513516, 'avg_msg_per_day': 74.581081081081081}, 'shrey': {'avg_msg_len_per_day': 3264.337837837838, 'avg_words_per_day': 551.8513513513514, 'avg_msg_per_day': 81.405405405405403}}}\n"
     ]
    }
   ],
   "source": [
    "#AVG_MESSAGES_PER_DAY\n",
    "dates=frequency(df.date)\n",
    "avg=0\n",
    "print 'avg messages length per day',float(df['msg_length'].sum())/float(len(dates))\n",
    "print 'avg words per day',float(df['no_of_words'].sum())/float(len(dates))\n",
    "print 'avg messages per day :',dates.freq.mean()\n",
    "sender_msg_stat={}\n",
    "for x in participants:\n",
    "    sender=group_by_sender(df,x)\n",
    "    sender_date_freq=frequency(sender.date)\n",
    "    sender_msg_stat[x]={\n",
    "        'avg_msg_len_per_day':float(sender['msg_length'].sum()/float(len(sender_date_freq))),\n",
    "        'avg_words_per_day':float(sender['no_of_words'].sum())/float(len(sender_date_freq)),\n",
    "        'avg_msg_per_day':sender_date_freq.freq.mean()\n",
    "    }\n",
    "msg_per_day={\n",
    "     'avg_msg_len_per_day':float(df['msg_length'].sum())/float(len(dates)),\n",
    "     'avg_words_per_day':float(df['no_of_words'].sum())/float(len(dates)),\n",
    "     'avg_msg_per_day':dates.freq.mean(),\n",
    "     'sender':sender_msg_stat\n",
    "}\n",
    "print msg_per_day "
   ]
  },
  {
   "cell_type": "code",
   "execution_count": 28,
   "metadata": {
    "collapsed": false
   },
   "outputs": [
    {
     "name": "stdout",
     "output_type": "stream",
     "text": [
      "{'total_emojis': 9083, 'sender': {'contribution': {'Habibi': 0.2690740944621821, 'shrey': 0.7309259055378179}, 'total': {'Habibi': 2444, 'shrey': 6639}}}\n"
     ]
    }
   ],
   "source": [
    "#TOTAL_EMOJI\n",
    "emoticons_data=get_emoticons_data()\n",
    "total_emojis=emoticons_data['freq'].sum()\n",
    "sender_emojis={}\n",
    "sender_emoji_contribution={}\n",
    "for x in participants:\n",
    "    sender_emojis[x]=emoticons_data[x].sum()\n",
    "    sender_emoji_contribution[x]=float(emoticons_data[x].sum())/float(total_emojis)\n",
    "total_emoji={\n",
    "    'total_emojis':total_emojis,\n",
    "    'sender':{\n",
    "        'total':sender_emojis,\n",
    "        'contribution':sender_emoji_contribution\n",
    "    }\n",
    "}\n",
    "print total_emoji"
   ]
  },
  {
   "cell_type": "code",
   "execution_count": 29,
   "metadata": {
    "collapsed": false
   },
   "outputs": [
    {
     "name": "stdout",
     "output_type": "stream",
     "text": [
      "{'total': 41, 'sender': {'Habibi': 17, 'shrey': 38}}\n"
     ]
    }
   ],
   "source": [
    "#DISTINCT EMOJIS\n",
    "sender_distinct_emoji={}\n",
    "for x in participants:\n",
    "    sender_distinct_emoji[x]=np.count_nonzero(emoticons_data[x])\n",
    "distinct_emoji={\n",
    "    'total':len(emoticons_data),\n",
    "    'sender':sender_distinct_emoji\n",
    "    \n",
    "}\n",
    "print distinct_emoji"
   ]
  },
  {
   "cell_type": "code",
   "execution_count": null,
   "metadata": {
    "collapsed": false
   },
   "outputs": [],
   "source": [
    "#MOST_USED_EMOJI\n",
    "\n",
    "sender_most_emoji={}\n",
    "\n",
    "for x in participants:\n",
    "    most_emoji=[]\n",
    "    for emo in sorted(emoticons_data[x])[-10:]:\n",
    "        most_emoji.append(emoticons_data[emoticons_data[x]==emo].to_dict())\n",
    "    sender_most_emoji[x]=most_emoji\n",
    "\n",
    "most_used_emoji={\n",
    "    'total':emoticons_data[emoticons_data.index<10].to_dict(),\n",
    "    'sender':sender_most_emoji\n",
    "    \n",
    "}\n",
    "print most_used_emoji['sender']"
   ]
  },
  {
   "cell_type": "code",
   "execution_count": null,
   "metadata": {
    "collapsed": false
   },
   "outputs": [],
   "source": [
    "whatsapp_data={\n",
    "    'total_no_of_msg':total_no_of_msg,\n",
    "    'total_msg_stat':total_msg_stat,\n",
    "    'avg_msg_stat':avg_msg_stat,\n",
    "    'msg_per_day ':msg_per_day ,\n",
    "    'total_emoji':total_emoji,\n",
    "    'distinct_emoji':distinct_emoji,\n",
    "    'most_used_emoji':most_used_emoji\n",
    "    \n",
    "}\n",
    "print whatsapp_data"
   ]
  },
  {
   "cell_type": "code",
   "execution_count": null,
   "metadata": {
    "collapsed": false
   },
   "outputs": [],
   "source": [
    "import json\n",
    "\n",
    "r = whatsapp_data\n",
    "r = json.dumps(r)\n",
    "loaded_r = json.loads(r)\n",
    "type(r) #Output str\n",
    "# type(loaded_r) #Output dict\n",
    "with open('whatsapp_data.json', 'w') as fp:\n",
    "    json.dump(loaded_r, fp)"
   ]
  },
  {
   "cell_type": "code",
   "execution_count": null,
   "metadata": {
    "collapsed": false
   },
   "outputs": [],
   "source": []
  },
  {
   "cell_type": "code",
   "execution_count": 33,
   "metadata": {
    "collapsed": false
   },
   "outputs": [
    {
     "name": "stdout",
     "output_type": "stream",
     "text": [
      "ok : \n",
      "     index entity  freq\n",
      "718   1271     Ok    12\n",
      "      index entity  freq\n",
      "1541   1471     ok     5\n",
      "      index entity  freq\n",
      "5214   1283     OK     1\n",
      "let : \n",
      "     index entity  freq\n",
      "834   1434    let    10\n",
      "      index entity  freq\n",
      "1742   2208    Let     4\n",
      "      index entity  freq\n",
      "4112   6559    LET     1\n",
      "mba : \n",
      "      index entity  freq\n",
      "1765   1249    Mba     4\n",
      "      index entity  freq\n",
      "2832   5472    MBA     2\n",
      "      index entity  freq\n",
      "2963    402    mba     2\n",
      "got : \n",
      "     index entity  freq\n",
      "953   3031    GoT     9\n",
      "      index entity  freq\n",
      "1834   5794    got     4\n",
      "      index entity  freq\n",
      "7070   3019    Got     1\n",
      "love : \n",
      "     index entity  freq\n",
      "419    519   love    21\n",
      "      index entity  freq\n",
      "2091   6312   Love     3\n",
      "      index entity  freq\n",
      "4923   5913   LOVE     1\n",
      "ors : \n",
      "      index entity  freq\n",
      "2196   4348    ors     3\n",
      "      index entity  freq\n",
      "5558   1905    ORS     1\n",
      "      index entity  freq\n",
      "7030   3088    Ors     1\n",
      "be : \n",
      "     index entity  freq\n",
      "113   1304     be    74\n",
      "      index entity  freq\n",
      "2205   3633     Be     3\n",
      "      index entity  freq\n",
      "7394   3623     BE     1\n",
      "mn : \n",
      "     index entity  freq\n",
      "812   5719     mn    10\n",
      "      index entity  freq\n",
      "2217    500     Mn     3\n",
      "      index entity  freq\n",
      "5789    512     MN     1\n",
      "mujhe : \n",
      "    index entity  freq\n",
      "62    862  mujhe   133\n",
      "    index entity  freq\n",
      "79   4382  Mujhe   110\n",
      "      index entity  freq\n",
      "2401   1593  MUjhe     3\n",
      "mai : \n",
      "    index entity  freq\n",
      "49   4277    mai   154\n",
      "    index entity  freq\n",
      "51   5166    Mai   153\n",
      "      index entity  freq\n",
      "2617   1847    MAi     2\n",
      "me : \n",
      "     index entity  freq\n",
      "111   5715     me    76\n",
      "      index entity  freq\n",
      "2625    498     Me     2\n",
      "      index entity  freq\n",
      "5788    510     ME     1\n",
      "us : \n",
      "     index entity  freq\n",
      "994   1353     us     8\n",
      "      index entity  freq\n",
      "2803   3680     US     2\n",
      "      index entity  freq\n",
      "7319   3675     Us     1\n",
      "mba : \n",
      "      index entity  freq\n",
      "1765   1249    Mba     4\n",
      "      index entity  freq\n",
      "2832   5472    MBA     2\n",
      "      index entity  freq\n",
      "2963    402    mba     2\n",
      "mri : \n",
      "      index entity  freq\n",
      "2882   3394    Mri     2\n",
      "      index entity  freq\n",
      "3069   2562    mri     2\n",
      "      index entity  freq\n",
      "3237    118    MRI     2\n",
      "mba : \n",
      "      index entity  freq\n",
      "1765   1249    Mba     4\n",
      "      index entity  freq\n",
      "2832   5472    MBA     2\n",
      "      index entity  freq\n",
      "2963    402    mba     2\n",
      "jaaenge : \n",
      "     index   entity  freq\n",
      "484   1413  jaaenge    19\n",
      "      index   entity  freq\n",
      "2986   6740  Jaaenge     2\n",
      "      index   entity  freq\n",
      "6839   4543  JAAENGE     1\n",
      "btw : \n",
      "      index entity  freq\n",
      "3011   1647    btw     2\n",
      "      index entity  freq\n",
      "4542   5802    BTW     1\n",
      "      index entity  freq\n",
      "7156   2522    Btw     1\n",
      "all : \n",
      "     index entity  freq\n",
      "282   6588    all    30\n",
      "      index entity  freq\n",
      "1231   3839    All     6\n",
      "      index entity  freq\n",
      "3041   7170    ALL     2\n",
      "mri : \n",
      "      index entity  freq\n",
      "2882   3394    Mri     2\n",
      "      index entity  freq\n",
      "3069   2562    mri     2\n",
      "      index entity  freq\n",
      "3237    118    MRI     2\n",
      "emi : \n",
      "      index entity  freq\n",
      "3176    639    EMI     2\n",
      "      index entity  freq\n",
      "4282   6926    Emi     1\n",
      "      index entity  freq\n",
      "5584   2089    emi     1\n",
      "mri : \n",
      "      index entity  freq\n",
      "2882   3394    Mri     2\n",
      "      index entity  freq\n",
      "3069   2562    mri     2\n",
      "      index entity  freq\n",
      "3237    118    MRI     2\n",
      "achi : \n",
      "     index entity  freq\n",
      "998   3212   achi     8\n",
      "      index entity  freq\n",
      "3513   1893   Achi     2\n",
      "      index entity  freq\n",
      "5211   1346   ACHI     1\n",
      "ni : \n",
      "     index entity  freq\n",
      "261   6447     ni    32\n",
      "     index entity  freq\n",
      "727    836     Ni    12\n",
      "      index entity  freq\n",
      "3516   6086     nI     2\n",
      "abhi : \n",
      "    index entity  freq\n",
      "75   2948   abhi   117\n",
      "    index entity  freq\n",
      "89   1673   Abhi    94\n",
      "      index entity  freq\n",
      "3663   5090   ABHI     1\n",
      "ugly : \n",
      "      index entity  freq\n",
      "1193   4034   ugly     7\n",
      "      index entity  freq\n",
      "3686   7418   uGLY     1\n",
      "      index entity  freq\n",
      "4877   6221   Ugly     1\n",
      "      index entity  freq\n",
      "6979   2812   UGLY     1\n",
      "let : \n",
      "     index entity  freq\n",
      "834   1434    let    10\n",
      "      index entity  freq\n",
      "1742   2208    Let     4\n",
      "      index entity  freq\n",
      "4112   6559    LET     1\n",
      "krni : \n",
      "      index entity  freq\n",
      "1164   4221   krni     7\n",
      "      index entity  freq\n",
      "4152   6354   KRni     1\n",
      "      index entity  freq\n",
      "5415   2431   Krni     1\n",
      "goa : \n",
      "     index entity  freq\n",
      "344   5787    goa    26\n",
      "     index entity  freq\n",
      "395   3125    Goa    22\n",
      "      index entity  freq\n",
      "4194   6330    GOA     1\n",
      "it : \n",
      "    index entity  freq\n",
      "92   4044     it    92\n",
      "     index entity  freq\n",
      "252   6460     It    33\n",
      "      index entity  freq\n",
      "4219   6449     IT     1\n",
      "and : \n",
      "     index entity  freq\n",
      "158   6316    and    57\n",
      "     index entity  freq\n",
      "174   3584    And    51\n",
      "      index entity  freq\n",
      "4264   6895    AND     1\n",
      "emi : \n",
      "      index entity  freq\n",
      "3176    639    EMI     2\n",
      "      index entity  freq\n",
      "4282   6926    Emi     1\n",
      "      index entity  freq\n",
      "5584   2089    emi     1\n",
      "you : \n",
      "    index entity  freq\n",
      "30   2765    you   231\n",
      "     index entity  freq\n",
      "126   3601    You    69\n",
      "      index entity  freq\n",
      "4364   6950    YOU     1\n",
      "the : \n",
      "    index entity  freq\n",
      "40   2169    the   198\n",
      "      index entity  freq\n",
      "1131   3046    The     7\n",
      "      index entity  freq\n",
      "4523   7352    THE     1\n",
      "btw : \n",
      "      index entity  freq\n",
      "3011   1647    btw     2\n",
      "      index entity  freq\n",
      "4542   5802    BTW     1\n",
      "      index entity  freq\n",
      "7156   2522    Btw     1\n",
      "mummy : \n",
      "     index entity  freq\n",
      "299   1236  Mummy    28\n",
      "     index entity  freq\n",
      "541   1296  mummy    16\n",
      "      index entity  freq\n",
      "4639   5704  MUmmy     1\n",
      "ugly : \n",
      "      index entity  freq\n",
      "1193   4034   ugly     7\n",
      "      index entity  freq\n",
      "3686   7418   uGLY     1\n",
      "      index entity  freq\n",
      "4877   6221   Ugly     1\n",
      "      index entity  freq\n",
      "6979   2812   UGLY     1\n",
      "love : \n",
      "     index entity  freq\n",
      "419    519   love    21\n",
      "      index entity  freq\n",
      "2091   6312   Love     3\n",
      "      index entity  freq\n",
      "4923   5913   LOVE     1\n",
      "bola : \n",
      "     index entity  freq\n",
      "119   4111   bola    72\n",
      "     index entity  freq\n",
      "888   2296   Bola     9\n",
      "      index entity  freq\n",
      "5155   1738   BOLA     1\n",
      "ache : \n",
      "      index entity  freq\n",
      "1191   3213   ache     7\n",
      "      index entity  freq\n",
      "5190   1347   ACHE     1\n",
      "      index entity  freq\n",
      "5563   1894   Ache     1\n",
      "achi : \n",
      "     index entity  freq\n",
      "998   3212   achi     8\n",
      "      index entity  freq\n",
      "3513   1893   Achi     2\n",
      "      index entity  freq\n",
      "5211   1346   ACHI     1\n",
      "ok : \n",
      "     index entity  freq\n",
      "718   1271     Ok    12\n",
      "      index entity  freq\n",
      "1541   1471     ok     5\n",
      "      index entity  freq\n",
      "5214   1283     OK     1\n",
      "krni : \n",
      "      index entity  freq\n",
      "1164   4221   krni     7\n",
      "      index entity  freq\n",
      "4152   6354   KRni     1\n",
      "      index entity  freq\n",
      "5415   2431   Krni     1\n",
      "ors : \n",
      "      index entity  freq\n",
      "2196   4348    ors     3\n",
      "      index entity  freq\n",
      "5558   1905    ORS     1\n",
      "      index entity  freq\n",
      "7030   3088    Ors     1\n",
      "ache : \n",
      "      index entity  freq\n",
      "1191   3213   ache     7\n",
      "      index entity  freq\n",
      "5190   1347   ACHE     1\n",
      "      index entity  freq\n",
      "5563   1894   Ache     1\n",
      "emi : \n",
      "      index entity  freq\n",
      "3176    639    EMI     2\n",
      "      index entity  freq\n",
      "4282   6926    Emi     1\n",
      "      index entity  freq\n",
      "5584   2089    emi     1\n",
      "me : \n",
      "     index entity  freq\n",
      "111   5715     me    76\n",
      "      index entity  freq\n",
      "2625    498     Me     2\n",
      "      index entity  freq\n",
      "5788    510     ME     1\n",
      "mn : \n",
      "     index entity  freq\n",
      "812   5719     mn    10\n",
      "      index entity  freq\n",
      "2217    500     Mn     3\n",
      "      index entity  freq\n",
      "5789    512     MN     1\n",
      "na : \n",
      "    index entity  freq\n",
      "19   6100     na   333\n",
      "     index entity  freq\n",
      "477    840     Na    19\n",
      "      index entity  freq\n",
      "6275    852     NA     1\n",
      "no : \n",
      "     index entity  freq\n",
      "260   6099     no    32\n",
      "     index entity  freq\n",
      "584    839     No    15\n",
      "      index entity  freq\n",
      "6277    850     NO     1\n",
      "aur : \n",
      "    index entity  freq\n",
      "12    966    Aur   446\n",
      "    index entity  freq\n",
      "29   3744    aur   237\n",
      "      index entity  freq\n",
      "6407   4254    AUr     1\n",
      "aisa : \n",
      "     index entity  freq\n",
      "193   5982   aisa    44\n",
      "     index entity  freq\n",
      "705   4716   Aisa    12\n",
      "      index entity  freq\n",
      "6553   4050   AISA     1\n",
      "apna : \n",
      "     index entity  freq\n",
      "446   3527   apna    20\n",
      "      index entity  freq\n",
      "1097   4480   Apna     7\n",
      "      index entity  freq\n",
      "6756   4923   APNA     1\n",
      "for : \n",
      "     index entity  freq\n",
      "171    376    for    52\n",
      "      index entity  freq\n",
      "1381   1184    For     5\n",
      "      index entity  freq\n",
      "6774   4483    FOR     1\n",
      "jaaenge : \n",
      "     index   entity  freq\n",
      "484   1413  jaaenge    19\n",
      "      index   entity  freq\n",
      "2986   6740  Jaaenge     2\n",
      "      index   entity  freq\n",
      "6839   4543  JAAENGE     1\n",
      "sb : \n",
      "     index entity  freq\n",
      "201    570     sb    42\n",
      "     index entity  freq\n",
      "495   2857     Sb    18\n",
      "      index entity  freq\n",
      "6931   2866     SB     1\n",
      "ugly : \n",
      "      index entity  freq\n",
      "1193   4034   ugly     7\n",
      "      index entity  freq\n",
      "3686   7418   uGLY     1\n",
      "      index entity  freq\n",
      "4877   6221   Ugly     1\n",
      "      index entity  freq\n",
      "6979   2812   UGLY     1\n",
      "ors : \n",
      "      index entity  freq\n",
      "2196   4348    ors     3\n",
      "      index entity  freq\n",
      "5558   1905    ORS     1\n",
      "      index entity  freq\n",
      "7030   3088    Ors     1\n",
      "got : \n",
      "     index entity  freq\n",
      "953   3031    GoT     9\n",
      "      index entity  freq\n",
      "1834   5794    got     4\n",
      "      index entity  freq\n",
      "7070   3019    Got     1\n",
      "there : \n",
      "     index entity  freq\n",
      "909   2495  There     9\n",
      "     index entity  freq\n",
      "973   6548  there     8\n",
      "      index entity  freq\n",
      "7078   2768  THERE     1\n",
      "btw : \n",
      "      index entity  freq\n",
      "3011   1647    btw     2\n",
      "      index entity  freq\n",
      "4542   5802    BTW     1\n",
      "      index entity  freq\n",
      "7156   2522    Btw     1\n",
      "us : \n",
      "     index entity  freq\n",
      "994   1353     us     8\n",
      "      index entity  freq\n",
      "2803   3680     US     2\n",
      "      index entity  freq\n",
      "7319   3675     Us     1\n",
      "be : \n",
      "     index entity  freq\n",
      "113   1304     be    74\n",
      "      index entity  freq\n",
      "2205   3633     Be     3\n",
      "      index entity  freq\n",
      "7394   3623     BE     1\n",
      "ab : \n",
      "    index entity  freq\n",
      "56    867     ab   146\n",
      "    index entity  freq\n",
      "60   3266     Ab   138\n",
      "      index entity  freq\n",
      "7422   3256     AB     1\n",
      "nhi : \n",
      "   index entity  freq\n",
      "8   5812    nhi   541\n",
      "     index entity  freq\n",
      "372   6709    Nhi    23\n",
      "      index entity  freq\n",
      "7479   3382    NHI     1\n"
     ]
    }
   ],
   "source": [
    "unique_token_freq=token_frequency.copy()\n",
    "unique_token_freq['entity']=[msg.lower() for msg in unique_token_freq['entity']]\n",
    "grouped_unique_tokens=unique_token_freq.groupby('entity')\n",
    "lonely={}\n",
    "for titty in unique_token_freq['entity'][len(unique_token_freq['entity'])/5:]:\n",
    "    nipples=grouped_unique_tokens.get_group(titty)\n",
    "    if(len(nipples)<=2):\n",
    "        continue\n",
    "    boobs=nipples[\"index\"]\n",
    "    total_freq=0\n",
    "    print titty,': '\n",
    "    for squeeze in boobs:\n",
    "        total_freq+= token_frequency[token_frequency['index']==squeeze].freq.to_dict().values()[0]\n",
    "        lonely[titty]= token_frequency.loc[token_frequency['index']==squeeze]\n",
    "        print lonely[titty]\n",
    "    \n",
    "\n",
    "        \n"
   ]
  },
  {
   "cell_type": "code",
   "execution_count": null,
   "metadata": {
    "collapsed": true
   },
   "outputs": [],
   "source": []
  }
 ],
 "metadata": {
  "kernelspec": {
   "display_name": "Python 2",
   "language": "python",
   "name": "python2"
  },
  "language_info": {
   "codemirror_mode": {
    "name": "ipython",
    "version": 2
   },
   "file_extension": ".py",
   "mimetype": "text/x-python",
   "name": "python",
   "nbconvert_exporter": "python",
   "pygments_lexer": "ipython2",
   "version": "2.7.11"
  }
 },
 "nbformat": 4,
 "nbformat_minor": 0
}
